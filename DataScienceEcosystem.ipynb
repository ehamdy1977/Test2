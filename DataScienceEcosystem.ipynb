{
 "cells": [
  {
   "cell_type": "markdown",
   "id": "51c7935c",
   "metadata": {},
   "source": [
    "# Data Science Tools and Ecosystem"
   ]
  },
  {
   "cell_type": "markdown",
   "id": "75ceafc7",
   "metadata": {},
   "source": [
    "# in this notebook, Data Science Tools and Ecosystem are summarized."
   ]
  },
  {
   "cell_type": "markdown",
   "id": "9e1e5494",
   "metadata": {},
   "source": [
    "# Some of the popular languages that Data Scientists use are:\n",
    "- R.\n",
    "- Python.\n",
    "- Excel."
   ]
  },
  {
   "cell_type": "markdown",
   "id": "34187b38",
   "metadata": {},
   "source": [
    "# Some of the commonly used libraries used by Data Scientists include:\n",
    "- Numpy.\n",
    "- Pandas.\n",
    "- Matplotlib.\n",
    "- Seaborn"
   ]
  },
  {
   "cell_type": "markdown",
   "id": "75caeee2",
   "metadata": {},
   "source": [
    "# Table of Data Science tools"
   ]
  },
  {
   "cell_type": "markdown",
   "id": "9e3e7d0a",
   "metadata": {},
   "source": [
    "| Data Science Tools |\n",
    "|--------------------|\n",
    "|Jupyter Notebook    |\n",
    "|RStudio             |\n",
    "|Apache Zeppelin     |"
   ]
  },
  {
   "cell_type": "markdown",
   "id": "20fdb4ac",
   "metadata": {},
   "source": [
    "###  Below are a few examples of evaluating arithemtic expressions in Python"
   ]
  },
  {
   "cell_type": "markdown",
   "id": "9b5b98ac",
   "metadata": {},
   "source": [
    "### This a simple arithmetic expression to multiply then integers"
   ]
  },
  {
   "cell_type": "code",
   "execution_count": 1,
   "id": "eb43be6a",
   "metadata": {},
   "outputs": [
    {
     "data": {
      "text/plain": [
       "17"
      ]
     },
     "execution_count": 1,
     "metadata": {},
     "output_type": "execute_result"
    }
   ],
   "source": [
    "(3*4)+5\n"
   ]
  },
  {
   "cell_type": "markdown",
   "id": "0908cee4",
   "metadata": {},
   "source": [
    "### This will convert 200 minutes to hours by dividing by 60"
   ]
  },
  {
   "cell_type": "code",
   "execution_count": 3,
   "id": "9476ff27",
   "metadata": {},
   "outputs": [
    {
     "data": {
      "text/plain": [
       "3.3333333333333335"
      ]
     },
     "execution_count": 3,
     "metadata": {},
     "output_type": "execute_result"
    }
   ],
   "source": [
    "200/60"
   ]
  },
  {
   "cell_type": "markdown",
   "id": "a67683e2",
   "metadata": {},
   "source": [
    "**Objectives:**"
   ]
  },
  {
   "cell_type": "markdown",
   "id": "39947ba0",
   "metadata": {},
   "source": [
    "### List popular languages for Data Science:\n",
    "- Item 1.\n",
    "- Item 2.\n",
    "- Item 3."
   ]
  },
  {
   "cell_type": "markdown",
   "id": "923c1a9a",
   "metadata": {},
   "source": [
    "## Author\n",
    "Emad Hamdy"
   ]
  },
  {
   "cell_type": "code",
   "execution_count": null,
   "id": "f0395024",
   "metadata": {},
   "outputs": [],
   "source": []
  }
 ],
 "metadata": {
  "kernelspec": {
   "display_name": "Python 3 (ipykernel)",
   "language": "python",
   "name": "python3"
  },
  "language_info": {
   "codemirror_mode": {
    "name": "ipython",
    "version": 3
   },
   "file_extension": ".py",
   "mimetype": "text/x-python",
   "name": "python",
   "nbconvert_exporter": "python",
   "pygments_lexer": "ipython3",
   "version": "3.10.9"
  }
 },
 "nbformat": 4,
 "nbformat_minor": 5
}
